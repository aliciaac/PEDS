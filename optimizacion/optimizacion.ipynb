{
 "metadata": {
  "name": "",
  "signature": "sha256:d2f3a09400037f0d2d97115d23db32c0d1b345f7f21a7291f30e44182e32e42e"
 },
 "nbformat": 3,
 "nbformat_minor": 0,
 "worksheets": [
  {
   "cells": [
    {
     "cell_type": "markdown",
     "metadata": {},
     "source": [
      "#Pr\u00e1ctica de T\u00e9cnicas de Optimizaci\u00f3n"
     ]
    },
    {
     "cell_type": "code",
     "collapsed": false,
     "input": [
      "import numpy as np\n",
      "import cvxpy"
     ],
     "language": "python",
     "metadata": {},
     "outputs": [
      {
       "ename": "ImportError",
       "evalue": "No module named cvxpy",
       "output_type": "pyerr",
       "traceback": [
        "\u001b[1;31m---------------------------------------------------------------------------\u001b[0m\n\u001b[1;31mImportError\u001b[0m                               Traceback (most recent call last)",
        "\u001b[1;32m<ipython-input-1-efdae8ffa0e5>\u001b[0m in \u001b[0;36m<module>\u001b[1;34m()\u001b[0m\n\u001b[0;32m      1\u001b[0m \u001b[1;32mimport\u001b[0m \u001b[0mnumpy\u001b[0m \u001b[1;32mas\u001b[0m \u001b[0mnp\u001b[0m\u001b[1;33m\u001b[0m\u001b[0m\n\u001b[1;32m----> 2\u001b[1;33m \u001b[1;32mimport\u001b[0m \u001b[0mcvxpy\u001b[0m\u001b[1;33m\u001b[0m\u001b[0m\n\u001b[0m",
        "\u001b[1;31mImportError\u001b[0m: No module named cvxpy"
       ]
      }
     ],
     "prompt_number": 1
    },
    {
     "cell_type": "markdown",
     "metadata": {},
     "source": [
      "#### Ejercicio 1 (3 ptos.)\n",
      "\n",
      "A partir de los siguientes ejemplos de funciones convexas:\n",
      "\n",
      "&nbsp;&nbsp;&nbsp;**1. Funci\u00f3n constante**: $f:\\mathbb R ^n \\rightarrow \\mathbb R$ tal que $f(x)=b$\n",
      "\n",
      "&nbsp;&nbsp;&nbsp;**2. Funci\u00f3n af\u00edn**: $f:\\mathbb R ^n \\rightarrow \\mathbb R$ tal que $f(x)=a^Tx+b$\n",
      "\n",
      "&nbsp;&nbsp;&nbsp;**3. Funci\u00f3n cuadr\u00e1tica**: $f:\\mathbb R ^n \\rightarrow \\mathbb R$ tal que  $f(x) = \\frac{1}{2} x^T A x + b^T x + c$, siempre y cuando A sea semidefinida positiva.\n",
      "\n",
      "&nbsp;&nbsp;&nbsp;**4. Normas**: $f:\\mathbb R^n \\rightarrow \\mathbb R$ tal que $f(x)=l(x)$, siendo $l$ una norma. \n",
      "<br/>&nbsp;&nbsp;&nbsp;&nbsp;&nbsp;&nbsp;Ejemplos de norma: \n",
      "<br/>&nbsp;&nbsp;&nbsp;&nbsp;&nbsp;&nbsp;$l_2 (x) = \\sqrt{x_{1}^2+...+x_{n}^2}$\n",
      "<br/>&nbsp;&nbsp;&nbsp;&nbsp;&nbsp;&nbsp;$l_1 (x) = |x_1|+...+|x_n|$\n",
      "<br/>&nbsp;&nbsp;&nbsp;&nbsp;&nbsp;&nbsp;$l_\\inf (x) = max(|x_1|,...,|x_n|)$\n",
      "\n",
      "&nbsp;&nbsp;&nbsp;**5. Exponencial**: $f:\\mathbb R \\rightarrow \\mathbb R$ tal que $f(x)=e^x$\n",
      "\n",
      "&nbsp;&nbsp;&nbsp;**6. Logaritmo negado**: $f:\\mathbb R^+ \\rightarrow \\mathbb R$ tal que $f(x)=-ln(x)$\n",
      "\n",
      "&nbsp;&nbsp;&nbsp;**7. Suma de exponenciales**: $f:\\mathbb R^n \\rightarrow \\mathbb R$ tal que $f(x_1,...,x_n)=e^{x_1}+...+e^{x_n}$\n",
      "\n",
      "\n",
      "Y de las siguientes propiedades:\n",
      "\n",
      "&nbsp;&nbsp;&nbsp;**1. Adici\u00f3n**: Si $f_1$ y $f_2$ son convexas, entonces $f_1+f_2$ tambi\u00e9n es convexa.\n",
      "\n",
      "&nbsp;&nbsp;&nbsp;**2. Escalado**: Si $f$ es convexa, entonces $\\alpha f$ es convexa para $\\alpha > 0$, $\\alpha \\in \\mathbb R$.\n",
      "\n",
      "&nbsp;&nbsp;&nbsp;**3. Transformaci\u00f3n af\u00edn**: Si $f:\\mathbb R^n \\rightarrow \\mathbb R$  es convexa, entonces $g(x)=f(Ax+b)$ es convexa para cualquier $A \\in \\mathbb R^{n \\times m}$ y $b \\in \\mathbb R^n$.\n",
      "\n",
      "&nbsp;&nbsp;&nbsp;**4. Sumar una funci\u00f3n lineal**: Si $f$ es convexa, entonces $g(x) = f(x) + a^T x$ tambi\u00e9n es convexa para cualquier $a \\in \\mathbb R^n$.\n",
      "\n",
      "&nbsp;&nbsp;&nbsp;**5. Restar una funci\u00f3n lineal**: Si $f$ es convexa, entonces $g(x) = f(x) - a^T x$ tambi\u00e9n es convexa para cualquier $a \\in \\mathbb R^n$.\n",
      "\n",
      "&nbsp;&nbsp;&nbsp;**6. Maximo punto a punto**: Si $f_1$ y $f_2$ son convexas, entonces $g(x) = max(f_1(x), f_2(x))$ tambi\u00e9n es convexa.\n",
      "\n",
      "&nbsp;&nbsp;&nbsp;**7. Negaci\u00f3n**: \n",
      "<br/>&nbsp;&nbsp;&nbsp;&nbsp;&nbsp;&nbsp;**a)** Si $f$ es c\u00f3ncava, entonces $g(x) = -f(x)$ es convexa.\n",
      "<br/>&nbsp;&nbsp;&nbsp;&nbsp;&nbsp;&nbsp;**b)** Si $f$ es convexa, entonces $g(x) = -f(x)$ es c\u00f3ncava.\n",
      "\n",
      "&nbsp;&nbsp;&nbsp;**8. Composici\u00f3n escalar**: Sean $f:\\mathbb R ^n \\rightarrow \\mathbb R$ y $h:\\mathbb R \\rightarrow \\mathbb R$ entonces $g(x) = h(f(x))$ ser\u00e1 convexa si:\n",
      "<br/>&nbsp;&nbsp;&nbsp;&nbsp;&nbsp;&nbsp;**a)** $f$ es convexa y $h$ es convexa y no decreciente.\n",
      "<br/>&nbsp;&nbsp;&nbsp;&nbsp;&nbsp;&nbsp;**b)** $f$ es concava y $h$ es convexa y no creciente.\n",
      "\n",
      "Demuestra que las siguientes funciones son convexas. Para ello s\u00f3lo es necesario indicar qu\u00e9 ejemplos y qu\u00e9 propiedades es necesario utilizar en la demostraci\u00f3n y en qu\u00e9 orden.\n",
      "\n",
      "**Ejemplo resuelto:** $f(x_1, x_2)= max(\\sqrt{x_1^2+x_2^2}, 1)$\n",
      "\n",
      "La demostraci\u00f3n utilizar\u00eda en este orden el ejemplo 4, ejemplo 1 y la propiedad 6. \n",
      "\n",
      "**a)** $f(x_1,x_2)= -ln(5*x_1-9*x_2+22)$"
     ]
    },
    {
     "cell_type": "code",
     "collapsed": false,
     "input": [
      "Propiedad 7, ejemplo 6 y ejemplo 2"
     ],
     "language": "python",
     "metadata": {},
     "outputs": []
    },
    {
     "cell_type": "markdown",
     "metadata": {},
     "source": [
      "**b)** $f(x_1, x_2) = e^{3({\\sqrt{x_1^2+x_2^2}})}$"
     ]
    },
    {
     "cell_type": "code",
     "collapsed": false,
     "input": [
      "Propiedad 8.a, ejemplo 5, propiedad 2, ejemplo 4"
     ],
     "language": "python",
     "metadata": {},
     "outputs": []
    },
    {
     "cell_type": "markdown",
     "metadata": {},
     "source": [
      "**c)** $f(x_1, x_2) = max(0, -5+e^{(x_1+3*x_2-7)})$ "
     ]
    },
    {
     "cell_type": "code",
     "collapsed": false,
     "input": [
      "Propiedad 6, ejemplo 1, propiedad 1, propiedad 8.a, ejemplo 5 y ejemplo 2"
     ],
     "language": "python",
     "metadata": {},
     "outputs": []
    },
    {
     "cell_type": "markdown",
     "metadata": {},
     "source": [
      "#### Ejercicio 2 (3,5 ptos.)\n",
      "\n",
      "Resuelva el siguiente problema de optimizaci\u00f3n convexa utilizando CVXPY:\n",
      "\n",
      "<i>minimizar</i> $f(x_1,x_2)=x_1^2+9x_2^2$\n",
      "\n",
      "<i>sujeto a</i>\n",
      "\n",
      "&nbsp;&nbsp;&nbsp;$2x_1+x_2 \\ge 1$\n",
      "\n",
      "&nbsp;&nbsp;&nbsp;$x_1+3x_2 \\ge 1$\n",
      "\n",
      "&nbsp;&nbsp;&nbsp;$x_1 \\ge 0$, $x_2 \\ge 0$"
     ]
    },
    {
     "cell_type": "code",
     "collapsed": false,
     "input": [
      "c=np.array([1,9])\n",
      "A=np.array([[2,1],[1,3]])\n",
      "b=np.array([1,1]).T\n",
      "\n",
      "x = cvxpy.Variable(2)\n",
      "\n",
      "objective = cvxpy.Minimize(c.T*(x**2))\n",
      "constraints = [A*x >= b, x >= 0]\n",
      "prob = cvxpy.Problem(objective, constraints)\n",
      "\n",
      "# Imprimimos el objetivo optimo\n",
      "result = prob.solve()\n",
      "print result\n",
      "# Imprimimos el valor optimo de x\n",
      "print x.value"
     ],
     "language": "python",
     "metadata": {},
     "outputs": [
      {
       "ename": "NameError",
       "evalue": "name 'cvxpy' is not defined",
       "output_type": "pyerr",
       "traceback": [
        "\u001b[1;31m---------------------------------------------------------------------------\u001b[0m\n\u001b[1;31mNameError\u001b[0m                                 Traceback (most recent call last)",
        "\u001b[1;32m<ipython-input-2-a8ed5f590808>\u001b[0m in \u001b[0;36m<module>\u001b[1;34m()\u001b[0m\n\u001b[0;32m      3\u001b[0m \u001b[0mb\u001b[0m\u001b[1;33m=\u001b[0m\u001b[0mnp\u001b[0m\u001b[1;33m.\u001b[0m\u001b[0marray\u001b[0m\u001b[1;33m(\u001b[0m\u001b[1;33m[\u001b[0m\u001b[1;36m1\u001b[0m\u001b[1;33m,\u001b[0m\u001b[1;36m1\u001b[0m\u001b[1;33m]\u001b[0m\u001b[1;33m)\u001b[0m\u001b[1;33m.\u001b[0m\u001b[0mT\u001b[0m\u001b[1;33m\u001b[0m\u001b[0m\n\u001b[0;32m      4\u001b[0m \u001b[1;33m\u001b[0m\u001b[0m\n\u001b[1;32m----> 5\u001b[1;33m \u001b[0mx\u001b[0m \u001b[1;33m=\u001b[0m \u001b[0mcvxpy\u001b[0m\u001b[1;33m.\u001b[0m\u001b[0mVariable\u001b[0m\u001b[1;33m(\u001b[0m\u001b[1;36m2\u001b[0m\u001b[1;33m)\u001b[0m\u001b[1;33m\u001b[0m\u001b[0m\n\u001b[0m\u001b[0;32m      6\u001b[0m \u001b[1;33m\u001b[0m\u001b[0m\n\u001b[0;32m      7\u001b[0m \u001b[0mobjective\u001b[0m \u001b[1;33m=\u001b[0m \u001b[0mcvxpy\u001b[0m\u001b[1;33m.\u001b[0m\u001b[0mMinimize\u001b[0m\u001b[1;33m(\u001b[0m\u001b[0mc\u001b[0m\u001b[1;33m.\u001b[0m\u001b[0mT\u001b[0m\u001b[1;33m*\u001b[0m\u001b[1;33m(\u001b[0m\u001b[0mx\u001b[0m\u001b[1;33m**\u001b[0m\u001b[1;36m2\u001b[0m\u001b[1;33m)\u001b[0m\u001b[1;33m)\u001b[0m\u001b[1;33m\u001b[0m\u001b[0m\n",
        "\u001b[1;31mNameError\u001b[0m: name 'cvxpy' is not defined"
       ]
      }
     ],
     "prompt_number": 2
    },
    {
     "cell_type": "markdown",
     "metadata": {},
     "source": [
      "#### Ejercicio 3 (3,5 ptos.)\n",
      "\n",
      "En clase vimos un ejemplo de implementaci\u00f3n de descenso estoc\u00e1stico de gradiente para regresi\u00f3n lineal en el caso de dos dimensiones. En este ejercicio, se pide escribir una implementaci\u00f3n de este algoritmo que funcione para cualquier n\u00famero de dimensiones."
     ]
    },
    {
     "cell_type": "code",
     "collapsed": false,
     "input": [
      "new_theta = np.zeros(5)\n",
      "cost_list = []\n",
      "v=0\n",
      "\n",
      "def descenso_estocastico_gradiente(x, y, theta_ini, pasadas, eta):\n",
      "    \"\"\"\n",
      "    Implementa el algoritmo de descenso estoc\u00e1stico de gradiente\n",
      "    para regresi\u00f3n lineal por m\u00ednimos cuadrados.\n",
      "    \n",
      "    Par\u00e1metros:\n",
      "    x         variable independiente de la regresi\u00f3n lineal. Array de dimensiones mxn\n",
      "    y         variable dependiente de la regresi\u00f3n lineal. Array unidimensional de m elementos\n",
      "    theta_ini valor inicial de los par\u00e1metros a optimizar. Array unidimensional de n elementos.\n",
      "    pasadas   n\u00famero de veces que recorreremos cada uno de los m elementos del conjunto de datos\n",
      "    eta       longitud de paso\n",
      "    \n",
      "    Valor devuelto:\n",
      "    Array con los valores \u00f3ptimos de theta. Array unidimensional de n elementos.\n",
      "    \"\"\"\n",
      "    \n",
      "    #TODO: implementar esta funci\u00f3n\n",
      "    \n",
      "    z=np.hstack((y.reshape((m,1)),x))\n",
      "    np.random.shuffle(z)\n",
      "    y=z[:,0]\n",
      "    x=z[:,1:]    \n",
      "    \n",
      "    new_theta = np.zeros(n)\n",
      "    \n",
      "    for pasada in range(pasadas):\n",
      "        for i in range(m):\n",
      "            g=np.dot(theta_ini,x[i])\n",
      "            new_theta = theta_ini - eta*((g-y[i])*x[i,:])\n",
      "            theta_ini = new_theta\n",
      "    \n",
      "    return theta_ini\n"
     ],
     "language": "python",
     "metadata": {},
     "outputs": [],
     "prompt_number": 2
    },
    {
     "cell_type": "markdown",
     "metadata": {},
     "source": [
      "El siguiente c\u00f3digo te servir\u00e1 para comprobar que tu algoritmo funciona correctamente. Genera un conjunto de 100.000 datos, que siguen la funci\u00f3n lineal $f(x_1,x_2,x_3,x_4)=-17+2x_1-8x_2+10x_3+9x_4$ pero a\u00f1adiendo un ruido gaussiano a los valores de $y$.\n",
      "\n",
      "Los valores de $\\theta$ devueltos por la funci\u00f3n que has implementado deber\u00edan ser cercanos a $(-17, 2, -8, 10, 9)$"
     ]
    },
    {
     "cell_type": "code",
     "collapsed": false,
     "input": [
      "m = 100000\n",
      "n = 5\n",
      "f = lambda x: 2*x[:,1]-8*x[:,2]+10*x[:,3]+9*x[:,4]-17+np.random.randn(x.shape[0])*10\n",
      "x = np.hstack((np.ones((m, 1)),np.random.random((m,n-1))*100))\n",
      "y = f(x) \n",
      "theta_ini = np.zeros(n)\n",
      "descenso_estocastico_gradiente(x, y, theta_ini, 20, 0.0001)"
     ],
     "language": "python",
     "metadata": {},
     "outputs": [
      {
       "metadata": {},
       "output_type": "pyout",
       "prompt_number": 3,
       "text": [
        "array([-16.80205841,   2.07511207,  -7.99213038,  10.08020067,   9.16486164])"
       ]
      }
     ],
     "prompt_number": 3
    },
    {
     "cell_type": "code",
     "collapsed": false,
     "input": [],
     "language": "python",
     "metadata": {},
     "outputs": []
    }
   ],
   "metadata": {}
  }
 ]
}